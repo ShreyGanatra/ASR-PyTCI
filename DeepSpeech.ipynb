{
  "cells": [
    {
      "cell_type": "code",
      "source": [
        "pip install git+https://github.com/naplab/PyTCI.git\n"
      ],
      "metadata": {
        "colab": {
          "base_uri": "https://localhost:8080/"
        },
        "id": "bU-P4wgWiy7g",
        "outputId": "b1903507-88db-4867-b8b8-0113ee3d055e"
      },
      "execution_count": 1,
      "outputs": [
        {
          "output_type": "stream",
          "name": "stdout",
          "text": [
            "Collecting git+https://github.com/naplab/PyTCI.git\n",
            "  Cloning https://github.com/naplab/PyTCI.git to /tmp/pip-req-build-ow0tpaq5\n",
            "  Running command git clone --filter=blob:none --quiet https://github.com/naplab/PyTCI.git /tmp/pip-req-build-ow0tpaq5\n",
            "  Resolved https://github.com/naplab/PyTCI.git to commit f68c8a5cb27a26e12bd67fe01c97ec394d1e3796\n",
            "  Preparing metadata (setup.py) ... \u001b[?25l\u001b[?25hdone\n",
            "Requirement already satisfied: numpy in /usr/local/lib/python3.10/dist-packages (from PyTCI==0.2) (1.25.2)\n",
            "Requirement already satisfied: scipy in /usr/local/lib/python3.10/dist-packages (from PyTCI==0.2) (1.11.4)\n",
            "Requirement already satisfied: torch in /usr/local/lib/python3.10/dist-packages (from PyTCI==0.2) (2.2.1+cu121)\n",
            "Requirement already satisfied: torchaudio in /usr/local/lib/python3.10/dist-packages (from PyTCI==0.2) (2.2.1+cu121)\n",
            "Requirement already satisfied: filelock in /usr/local/lib/python3.10/dist-packages (from torch->PyTCI==0.2) (3.14.0)\n",
            "Requirement already satisfied: typing-extensions>=4.8.0 in /usr/local/lib/python3.10/dist-packages (from torch->PyTCI==0.2) (4.11.0)\n",
            "Requirement already satisfied: sympy in /usr/local/lib/python3.10/dist-packages (from torch->PyTCI==0.2) (1.12)\n",
            "Requirement already satisfied: networkx in /usr/local/lib/python3.10/dist-packages (from torch->PyTCI==0.2) (3.3)\n",
            "Requirement already satisfied: jinja2 in /usr/local/lib/python3.10/dist-packages (from torch->PyTCI==0.2) (3.1.3)\n",
            "Requirement already satisfied: fsspec in /usr/local/lib/python3.10/dist-packages (from torch->PyTCI==0.2) (2023.6.0)\n",
            "Collecting nvidia-cuda-nvrtc-cu12==12.1.105 (from torch->PyTCI==0.2)\n",
            "  Using cached nvidia_cuda_nvrtc_cu12-12.1.105-py3-none-manylinux1_x86_64.whl (23.7 MB)\n",
            "Collecting nvidia-cuda-runtime-cu12==12.1.105 (from torch->PyTCI==0.2)\n",
            "  Using cached nvidia_cuda_runtime_cu12-12.1.105-py3-none-manylinux1_x86_64.whl (823 kB)\n",
            "Collecting nvidia-cuda-cupti-cu12==12.1.105 (from torch->PyTCI==0.2)\n",
            "  Using cached nvidia_cuda_cupti_cu12-12.1.105-py3-none-manylinux1_x86_64.whl (14.1 MB)\n",
            "Collecting nvidia-cudnn-cu12==8.9.2.26 (from torch->PyTCI==0.2)\n",
            "  Using cached nvidia_cudnn_cu12-8.9.2.26-py3-none-manylinux1_x86_64.whl (731.7 MB)\n",
            "Collecting nvidia-cublas-cu12==12.1.3.1 (from torch->PyTCI==0.2)\n",
            "  Using cached nvidia_cublas_cu12-12.1.3.1-py3-none-manylinux1_x86_64.whl (410.6 MB)\n",
            "Collecting nvidia-cufft-cu12==11.0.2.54 (from torch->PyTCI==0.2)\n",
            "  Using cached nvidia_cufft_cu12-11.0.2.54-py3-none-manylinux1_x86_64.whl (121.6 MB)\n",
            "Collecting nvidia-curand-cu12==10.3.2.106 (from torch->PyTCI==0.2)\n",
            "  Using cached nvidia_curand_cu12-10.3.2.106-py3-none-manylinux1_x86_64.whl (56.5 MB)\n",
            "Collecting nvidia-cusolver-cu12==11.4.5.107 (from torch->PyTCI==0.2)\n",
            "  Using cached nvidia_cusolver_cu12-11.4.5.107-py3-none-manylinux1_x86_64.whl (124.2 MB)\n",
            "Collecting nvidia-cusparse-cu12==12.1.0.106 (from torch->PyTCI==0.2)\n",
            "  Using cached nvidia_cusparse_cu12-12.1.0.106-py3-none-manylinux1_x86_64.whl (196.0 MB)\n",
            "Collecting nvidia-nccl-cu12==2.19.3 (from torch->PyTCI==0.2)\n",
            "  Using cached nvidia_nccl_cu12-2.19.3-py3-none-manylinux1_x86_64.whl (166.0 MB)\n",
            "Collecting nvidia-nvtx-cu12==12.1.105 (from torch->PyTCI==0.2)\n",
            "  Using cached nvidia_nvtx_cu12-12.1.105-py3-none-manylinux1_x86_64.whl (99 kB)\n",
            "Requirement already satisfied: triton==2.2.0 in /usr/local/lib/python3.10/dist-packages (from torch->PyTCI==0.2) (2.2.0)\n",
            "Collecting nvidia-nvjitlink-cu12 (from nvidia-cusolver-cu12==11.4.5.107->torch->PyTCI==0.2)\n",
            "  Using cached nvidia_nvjitlink_cu12-12.4.127-py3-none-manylinux2014_x86_64.whl (21.1 MB)\n",
            "Requirement already satisfied: MarkupSafe>=2.0 in /usr/local/lib/python3.10/dist-packages (from jinja2->torch->PyTCI==0.2) (2.1.5)\n",
            "Requirement already satisfied: mpmath>=0.19 in /usr/local/lib/python3.10/dist-packages (from sympy->torch->PyTCI==0.2) (1.3.0)\n",
            "Building wheels for collected packages: PyTCI\n",
            "  Building wheel for PyTCI (setup.py) ... \u001b[?25l\u001b[?25hdone\n",
            "  Created wheel for PyTCI: filename=PyTCI-0.2-py3-none-any.whl size=9700 sha256=bb21e1931edb44386c921f43e329538073216d9a18517fd9c8c5da97dfda2990\n",
            "  Stored in directory: /tmp/pip-ephem-wheel-cache-1l1ycwm3/wheels/08/2c/c8/2c67122579cbeb7bee56493b164731494ff0d397f06eac10f4\n",
            "Successfully built PyTCI\n",
            "Installing collected packages: nvidia-nvtx-cu12, nvidia-nvjitlink-cu12, nvidia-nccl-cu12, nvidia-curand-cu12, nvidia-cufft-cu12, nvidia-cuda-runtime-cu12, nvidia-cuda-nvrtc-cu12, nvidia-cuda-cupti-cu12, nvidia-cublas-cu12, nvidia-cusparse-cu12, nvidia-cudnn-cu12, nvidia-cusolver-cu12, PyTCI\n",
            "Successfully installed PyTCI-0.2 nvidia-cublas-cu12-12.1.3.1 nvidia-cuda-cupti-cu12-12.1.105 nvidia-cuda-nvrtc-cu12-12.1.105 nvidia-cuda-runtime-cu12-12.1.105 nvidia-cudnn-cu12-8.9.2.26 nvidia-cufft-cu12-11.0.2.54 nvidia-curand-cu12-10.3.2.106 nvidia-cusolver-cu12-11.4.5.107 nvidia-cusparse-cu12-12.1.0.106 nvidia-nccl-cu12-2.19.3 nvidia-nvjitlink-cu12-12.4.127 nvidia-nvtx-cu12-12.1.105\n"
          ]
        }
      ]
    },
    {
      "cell_type": "code",
      "source": [
        "!git clone https://github.com/naplab/PyTCI"
      ],
      "metadata": {
        "colab": {
          "base_uri": "https://localhost:8080/"
        },
        "id": "SOL9m29qkoIL",
        "outputId": "dccae5cc-55f8-4d26-d5e9-38017e8c1fbc"
      },
      "execution_count": 2,
      "outputs": [
        {
          "output_type": "stream",
          "name": "stdout",
          "text": [
            "Cloning into 'PyTCI'...\n",
            "remote: Enumerating objects: 110, done.\u001b[K\n",
            "remote: Counting objects: 100% (110/110), done.\u001b[K\n",
            "remote: Compressing objects: 100% (86/86), done.\u001b[K\n",
            "remote: Total 110 (delta 47), reused 64 (delta 22), pack-reused 0\u001b[K\n",
            "Receiving objects: 100% (110/110), 3.23 MiB | 15.03 MiB/s, done.\n",
            "Resolving deltas: 100% (47/47), done.\n"
          ]
        }
      ]
    },
    {
      "cell_type": "code",
      "source": [
        "import tarfile\n",
        "import os\n",
        "\n",
        "# Create a folder if it doesn't exist\n",
        "os.makedirs('/content/Examples/', exist_ok=True)\n",
        "# Open the tar archive\n",
        "with tarfile.open('/content/PyTCI/Examples/resources.tar', 'r') as tar:\n",
        "    # Extract all files to the current directory\n",
        "    tar.extractall(path='/content/Examples/')\n"
      ],
      "metadata": {
        "id": "WZoeoYqQkuLg"
      },
      "execution_count": 3,
      "outputs": []
    },
    {
      "cell_type": "code",
      "source": [
        "pip install omegaconf"
      ],
      "metadata": {
        "colab": {
          "base_uri": "https://localhost:8080/",
          "height": 395
        },
        "id": "ooyZ3whDlAsb",
        "outputId": "4966123e-0aea-406a-e634-544f8b0a126d"
      },
      "execution_count": null,
      "outputs": [
        {
          "output_type": "stream",
          "name": "stdout",
          "text": [
            "Collecting omegaconf\n",
            "  Downloading omegaconf-2.3.0-py3-none-any.whl (79 kB)\n",
            "\u001b[?25l     \u001b[90m━━━━━━━━━━━━━━━━━━━━━━━━━━━━━━━━━━━━━━━━\u001b[0m \u001b[32m0.0/79.5 kB\u001b[0m \u001b[31m?\u001b[0m eta \u001b[36m-:--:--\u001b[0m\r\u001b[2K     \u001b[90m━━━━━━━━━━━━━━━━━━━━━━━━━━━━━━━━━━━━━━━━\u001b[0m \u001b[32m79.5/79.5 kB\u001b[0m \u001b[31m2.6 MB/s\u001b[0m eta \u001b[36m0:00:00\u001b[0m\n",
            "\u001b[?25hCollecting antlr4-python3-runtime==4.9.* (from omegaconf)\n",
            "  Downloading antlr4-python3-runtime-4.9.3.tar.gz (117 kB)\n",
            "\u001b[?25l     \u001b[90m━━━━━━━━━━━━━━━━━━━━━━━━━━━━━━━━━━━━━━━━\u001b[0m \u001b[32m0.0/117.0 kB\u001b[0m \u001b[31m?\u001b[0m eta \u001b[36m-:--:--\u001b[0m\r\u001b[2K     \u001b[90m━━━━━━━━━━━━━━━━━━━━━━━━━━━━━━━━━━━━━━━━\u001b[0m \u001b[32m117.0/117.0 kB\u001b[0m \u001b[31m7.8 MB/s\u001b[0m eta \u001b[36m0:00:00\u001b[0m\n",
            "\u001b[?25h  Preparing metadata (setup.py) ... \u001b[?25l\u001b[?25hdone\n",
            "Requirement already satisfied: PyYAML>=5.1.0 in /usr/local/lib/python3.10/dist-packages (from omegaconf) (6.0.1)\n",
            "Building wheels for collected packages: antlr4-python3-runtime\n",
            "  Building wheel for antlr4-python3-runtime (setup.py) ... \u001b[?25l\u001b[?25hdone\n",
            "  Created wheel for antlr4-python3-runtime: filename=antlr4_python3_runtime-4.9.3-py3-none-any.whl size=144554 sha256=672f62ecba415fc68d2023636bc4fb618c0bf812521daa721b8c0ba0fa10f66d\n",
            "  Stored in directory: /root/.cache/pip/wheels/12/93/dd/1f6a127edc45659556564c5730f6d4e300888f4bca2d4c5a88\n",
            "Successfully built antlr4-python3-runtime\n",
            "Installing collected packages: antlr4-python3-runtime, omegaconf\n",
            "Successfully installed antlr4-python3-runtime-4.9.3 omegaconf-2.3.0\n"
          ]
        },
        {
          "output_type": "display_data",
          "data": {
            "application/vnd.colab-display-data+json": {
              "pip_warning": {
                "packages": [
                  "pydevd_plugins"
                ]
              },
              "id": "c901585afedd4ead9e812491e48b213c"
            }
          },
          "metadata": {}
        }
      ]
    },
    {
      "cell_type": "code",
      "source": [
        "pip install git+https://github.com/SeanNaren/deepspeech.pytorch.git"
      ],
      "metadata": {
        "colab": {
          "base_uri": "https://localhost:8080/"
        },
        "id": "mDEwOC9MrLFR",
        "outputId": "6db8ed1c-08ec-4e11-cd68-3a00f24e3f02"
      },
      "execution_count": null,
      "outputs": [
        {
          "output_type": "stream",
          "name": "stdout",
          "text": [
            "Collecting git+https://github.com/SeanNaren/deepspeech.pytorch.git\n",
            "  Cloning https://github.com/SeanNaren/deepspeech.pytorch.git to /tmp/pip-req-build-hs4zayd2\n",
            "  Running command git clone --filter=blob:none --quiet https://github.com/SeanNaren/deepspeech.pytorch.git /tmp/pip-req-build-hs4zayd2\n",
            "  Resolved https://github.com/SeanNaren/deepspeech.pytorch.git to commit b88a631ef6b96553e16bbaa5bd6a621435bed278\n",
            "  Preparing metadata (setup.py) ... \u001b[?25l\u001b[?25hdone\n",
            "Building wheels for collected packages: deepspeech-pytorch\n",
            "  Building wheel for deepspeech-pytorch (setup.py) ... \u001b[?25l\u001b[?25hdone\n",
            "  Created wheel for deepspeech-pytorch: filename=deepspeech_pytorch-0.1-py3-none-any.whl size=35082 sha256=2de1157ec2acfc0af9f836cb41bcffe3b7478ba0c2d4d59427f8fbe6a469d19b\n",
            "  Stored in directory: /tmp/pip-ephem-wheel-cache-v1mgloyr/wheels/e9/00/8d/926ac94c730b88e791b0fc11c5110e64bb2a2b5e727c15d234\n",
            "Successfully built deepspeech-pytorch\n",
            "Installing collected packages: deepspeech-pytorch\n",
            "Successfully installed deepspeech-pytorch-0.1\n"
          ]
        }
      ]
    },
    {
      "cell_type": "code",
      "source": [
        "!pip install hydra-core"
      ],
      "metadata": {
        "colab": {
          "base_uri": "https://localhost:8080/"
        },
        "id": "OWoC3qRTpMcb",
        "outputId": "4dfdf564-af47-4433-fcee-1ea9d8c52c73"
      },
      "execution_count": null,
      "outputs": [
        {
          "output_type": "stream",
          "name": "stdout",
          "text": [
            "Requirement already satisfied: hydra-core in /usr/local/lib/python3.10/dist-packages (1.3.2)\n",
            "Requirement already satisfied: omegaconf<2.4,>=2.2 in /usr/local/lib/python3.10/dist-packages (from hydra-core) (2.3.0)\n",
            "Requirement already satisfied: antlr4-python3-runtime==4.9.* in /usr/local/lib/python3.10/dist-packages (from hydra-core) (4.9.3)\n",
            "Requirement already satisfied: packaging in /usr/local/lib/python3.10/dist-packages (from hydra-core) (24.0)\n",
            "Requirement already satisfied: PyYAML>=5.1.0 in /usr/local/lib/python3.10/dist-packages (from omegaconf<2.4,>=2.2->hydra-core) (6.0.1)\n"
          ]
        }
      ]
    },
    {
      "cell_type": "code",
      "source": [
        "!pip install lightning"
      ],
      "metadata": {
        "colab": {
          "base_uri": "https://localhost:8080/"
        },
        "id": "uQpy6Wyhr4gZ",
        "outputId": "eacc11b7-cd2b-4d97-ba0d-5c34a9ac7f7f"
      },
      "execution_count": null,
      "outputs": [
        {
          "output_type": "stream",
          "name": "stdout",
          "text": [
            "Collecting lightning\n",
            "  Downloading lightning-2.2.4-py3-none-any.whl (2.0 MB)\n",
            "\u001b[2K     \u001b[90m━━━━━━━━━━━━━━━━━━━━━━━━━━━━━━━━━━━━━━━━\u001b[0m \u001b[32m2.0/2.0 MB\u001b[0m \u001b[31m13.0 MB/s\u001b[0m eta \u001b[36m0:00:00\u001b[0m\n",
            "\u001b[?25hRequirement already satisfied: PyYAML<8.0,>=5.4 in /usr/local/lib/python3.10/dist-packages (from lightning) (6.0.1)\n",
            "Requirement already satisfied: fsspec[http]<2025.0,>=2022.5.0 in /usr/local/lib/python3.10/dist-packages (from lightning) (2023.6.0)\n",
            "Collecting lightning-utilities<2.0,>=0.8.0 (from lightning)\n",
            "  Downloading lightning_utilities-0.11.2-py3-none-any.whl (26 kB)\n",
            "Requirement already satisfied: numpy<3.0,>=1.17.2 in /usr/local/lib/python3.10/dist-packages (from lightning) (1.25.2)\n",
            "Requirement already satisfied: packaging<25.0,>=20.0 in /usr/local/lib/python3.10/dist-packages (from lightning) (24.0)\n",
            "Requirement already satisfied: torch<4.0,>=1.13.0 in /usr/local/lib/python3.10/dist-packages (from lightning) (2.2.1+cu121)\n",
            "Collecting torchmetrics<3.0,>=0.7.0 (from lightning)\n",
            "  Downloading torchmetrics-1.3.2-py3-none-any.whl (841 kB)\n",
            "\u001b[2K     \u001b[90m━━━━━━━━━━━━━━━━━━━━━━━━━━━━━━━━━━━━━━━━\u001b[0m \u001b[32m841.5/841.5 kB\u001b[0m \u001b[31m23.0 MB/s\u001b[0m eta \u001b[36m0:00:00\u001b[0m\n",
            "\u001b[?25hRequirement already satisfied: tqdm<6.0,>=4.57.0 in /usr/local/lib/python3.10/dist-packages (from lightning) (4.66.2)\n",
            "Requirement already satisfied: typing-extensions<6.0,>=4.4.0 in /usr/local/lib/python3.10/dist-packages (from lightning) (4.11.0)\n",
            "Collecting pytorch-lightning (from lightning)\n",
            "  Downloading pytorch_lightning-2.2.4-py3-none-any.whl (802 kB)\n",
            "\u001b[2K     \u001b[90m━━━━━━━━━━━━━━━━━━━━━━━━━━━━━━━━━━━━━━━━\u001b[0m \u001b[32m802.2/802.2 kB\u001b[0m \u001b[31m27.8 MB/s\u001b[0m eta \u001b[36m0:00:00\u001b[0m\n",
            "\u001b[?25hRequirement already satisfied: requests in /usr/local/lib/python3.10/dist-packages (from fsspec[http]<2025.0,>=2022.5.0->lightning) (2.31.0)\n",
            "Requirement already satisfied: aiohttp!=4.0.0a0,!=4.0.0a1 in /usr/local/lib/python3.10/dist-packages (from fsspec[http]<2025.0,>=2022.5.0->lightning) (3.9.5)\n",
            "Requirement already satisfied: setuptools in /usr/local/lib/python3.10/dist-packages (from lightning-utilities<2.0,>=0.8.0->lightning) (67.7.2)\n",
            "Requirement already satisfied: filelock in /usr/local/lib/python3.10/dist-packages (from torch<4.0,>=1.13.0->lightning) (3.14.0)\n",
            "Requirement already satisfied: sympy in /usr/local/lib/python3.10/dist-packages (from torch<4.0,>=1.13.0->lightning) (1.12)\n",
            "Requirement already satisfied: networkx in /usr/local/lib/python3.10/dist-packages (from torch<4.0,>=1.13.0->lightning) (3.3)\n",
            "Requirement already satisfied: jinja2 in /usr/local/lib/python3.10/dist-packages (from torch<4.0,>=1.13.0->lightning) (3.1.3)\n",
            "Requirement already satisfied: nvidia-cuda-nvrtc-cu12==12.1.105 in /usr/local/lib/python3.10/dist-packages (from torch<4.0,>=1.13.0->lightning) (12.1.105)\n",
            "Requirement already satisfied: nvidia-cuda-runtime-cu12==12.1.105 in /usr/local/lib/python3.10/dist-packages (from torch<4.0,>=1.13.0->lightning) (12.1.105)\n",
            "Requirement already satisfied: nvidia-cuda-cupti-cu12==12.1.105 in /usr/local/lib/python3.10/dist-packages (from torch<4.0,>=1.13.0->lightning) (12.1.105)\n",
            "Requirement already satisfied: nvidia-cudnn-cu12==8.9.2.26 in /usr/local/lib/python3.10/dist-packages (from torch<4.0,>=1.13.0->lightning) (8.9.2.26)\n",
            "Requirement already satisfied: nvidia-cublas-cu12==12.1.3.1 in /usr/local/lib/python3.10/dist-packages (from torch<4.0,>=1.13.0->lightning) (12.1.3.1)\n",
            "Requirement already satisfied: nvidia-cufft-cu12==11.0.2.54 in /usr/local/lib/python3.10/dist-packages (from torch<4.0,>=1.13.0->lightning) (11.0.2.54)\n",
            "Requirement already satisfied: nvidia-curand-cu12==10.3.2.106 in /usr/local/lib/python3.10/dist-packages (from torch<4.0,>=1.13.0->lightning) (10.3.2.106)\n",
            "Requirement already satisfied: nvidia-cusolver-cu12==11.4.5.107 in /usr/local/lib/python3.10/dist-packages (from torch<4.0,>=1.13.0->lightning) (11.4.5.107)\n",
            "Requirement already satisfied: nvidia-cusparse-cu12==12.1.0.106 in /usr/local/lib/python3.10/dist-packages (from torch<4.0,>=1.13.0->lightning) (12.1.0.106)\n",
            "Requirement already satisfied: nvidia-nccl-cu12==2.19.3 in /usr/local/lib/python3.10/dist-packages (from torch<4.0,>=1.13.0->lightning) (2.19.3)\n",
            "Requirement already satisfied: nvidia-nvtx-cu12==12.1.105 in /usr/local/lib/python3.10/dist-packages (from torch<4.0,>=1.13.0->lightning) (12.1.105)\n",
            "Requirement already satisfied: triton==2.2.0 in /usr/local/lib/python3.10/dist-packages (from torch<4.0,>=1.13.0->lightning) (2.2.0)\n",
            "Requirement already satisfied: nvidia-nvjitlink-cu12 in /usr/local/lib/python3.10/dist-packages (from nvidia-cusolver-cu12==11.4.5.107->torch<4.0,>=1.13.0->lightning) (12.4.127)\n",
            "Requirement already satisfied: aiosignal>=1.1.2 in /usr/local/lib/python3.10/dist-packages (from aiohttp!=4.0.0a0,!=4.0.0a1->fsspec[http]<2025.0,>=2022.5.0->lightning) (1.3.1)\n",
            "Requirement already satisfied: attrs>=17.3.0 in /usr/local/lib/python3.10/dist-packages (from aiohttp!=4.0.0a0,!=4.0.0a1->fsspec[http]<2025.0,>=2022.5.0->lightning) (23.2.0)\n",
            "Requirement already satisfied: frozenlist>=1.1.1 in /usr/local/lib/python3.10/dist-packages (from aiohttp!=4.0.0a0,!=4.0.0a1->fsspec[http]<2025.0,>=2022.5.0->lightning) (1.4.1)\n",
            "Requirement already satisfied: multidict<7.0,>=4.5 in /usr/local/lib/python3.10/dist-packages (from aiohttp!=4.0.0a0,!=4.0.0a1->fsspec[http]<2025.0,>=2022.5.0->lightning) (6.0.5)\n",
            "Requirement already satisfied: yarl<2.0,>=1.0 in /usr/local/lib/python3.10/dist-packages (from aiohttp!=4.0.0a0,!=4.0.0a1->fsspec[http]<2025.0,>=2022.5.0->lightning) (1.9.4)\n",
            "Requirement already satisfied: async-timeout<5.0,>=4.0 in /usr/local/lib/python3.10/dist-packages (from aiohttp!=4.0.0a0,!=4.0.0a1->fsspec[http]<2025.0,>=2022.5.0->lightning) (4.0.3)\n",
            "Requirement already satisfied: MarkupSafe>=2.0 in /usr/local/lib/python3.10/dist-packages (from jinja2->torch<4.0,>=1.13.0->lightning) (2.1.5)\n",
            "Requirement already satisfied: charset-normalizer<4,>=2 in /usr/local/lib/python3.10/dist-packages (from requests->fsspec[http]<2025.0,>=2022.5.0->lightning) (3.3.2)\n",
            "Requirement already satisfied: idna<4,>=2.5 in /usr/local/lib/python3.10/dist-packages (from requests->fsspec[http]<2025.0,>=2022.5.0->lightning) (3.7)\n",
            "Requirement already satisfied: urllib3<3,>=1.21.1 in /usr/local/lib/python3.10/dist-packages (from requests->fsspec[http]<2025.0,>=2022.5.0->lightning) (2.0.7)\n",
            "Requirement already satisfied: certifi>=2017.4.17 in /usr/local/lib/python3.10/dist-packages (from requests->fsspec[http]<2025.0,>=2022.5.0->lightning) (2024.2.2)\n",
            "Requirement already satisfied: mpmath>=0.19 in /usr/local/lib/python3.10/dist-packages (from sympy->torch<4.0,>=1.13.0->lightning) (1.3.0)\n",
            "Installing collected packages: lightning-utilities, torchmetrics, pytorch-lightning, lightning\n",
            "Successfully installed lightning-2.2.4 lightning-utilities-0.11.2 pytorch-lightning-2.2.4 torchmetrics-1.3.2\n"
          ]
        }
      ]
    },
    {
      "cell_type": "code",
      "source": [
        "!pip install python-Levenshtein"
      ],
      "metadata": {
        "colab": {
          "base_uri": "https://localhost:8080/"
        },
        "id": "B2akSnSts0S6",
        "outputId": "204cede5-df73-4903-9535-5d37590edee9"
      },
      "execution_count": null,
      "outputs": [
        {
          "output_type": "stream",
          "name": "stdout",
          "text": [
            "Collecting python-Levenshtein\n",
            "  Downloading python_Levenshtein-0.25.1-py3-none-any.whl (9.4 kB)\n",
            "Collecting Levenshtein==0.25.1 (from python-Levenshtein)\n",
            "  Downloading Levenshtein-0.25.1-cp310-cp310-manylinux_2_17_x86_64.manylinux2014_x86_64.whl (177 kB)\n",
            "\u001b[2K     \u001b[90m━━━━━━━━━━━━━━━━━━━━━━━━━━━━━━━━━━━━━━━━\u001b[0m \u001b[32m177.4/177.4 kB\u001b[0m \u001b[31m5.2 MB/s\u001b[0m eta \u001b[36m0:00:00\u001b[0m\n",
            "\u001b[?25hCollecting rapidfuzz<4.0.0,>=3.8.0 (from Levenshtein==0.25.1->python-Levenshtein)\n",
            "  Downloading rapidfuzz-3.9.0-cp310-cp310-manylinux_2_17_x86_64.manylinux2014_x86_64.whl (3.4 MB)\n",
            "\u001b[2K     \u001b[90m━━━━━━━━━━━━━━━━━━━━━━━━━━━━━━━━━━━━━━━━\u001b[0m \u001b[32m3.4/3.4 MB\u001b[0m \u001b[31m20.5 MB/s\u001b[0m eta \u001b[36m0:00:00\u001b[0m\n",
            "\u001b[?25hInstalling collected packages: rapidfuzz, Levenshtein, python-Levenshtein\n",
            "Successfully installed Levenshtein-0.25.1 python-Levenshtein-0.25.1 rapidfuzz-3.9.0\n"
          ]
        }
      ]
    },
    {
      "cell_type": "code",
      "source": [
        "!sudo apt install libsox-dev"
      ],
      "metadata": {
        "colab": {
          "base_uri": "https://localhost:8080/"
        },
        "id": "3oUZgvgF8-31",
        "outputId": "21cdf1f8-9109-4701-b702-40b5ffd8ad26"
      },
      "execution_count": null,
      "outputs": [
        {
          "output_type": "stream",
          "name": "stdout",
          "text": [
            "Reading package lists... Done\n",
            "Building dependency tree... Done\n",
            "Reading state information... Done\n",
            "The following additional packages will be installed:\n",
            "  libao-common libao4 libid3tag0 libmad0 libopencore-amrnb0 libopencore-amrwb0\n",
            "  libsox-fmt-all libsox-fmt-alsa libsox-fmt-ao libsox-fmt-base libsox-fmt-mp3\n",
            "  libsox-fmt-oss libsox-fmt-pulse libsox3 libwavpack1\n",
            "Suggested packages:\n",
            "  libaudio2 libsndio6.1\n",
            "The following NEW packages will be installed:\n",
            "  libao-common libao4 libid3tag0 libmad0 libopencore-amrnb0 libopencore-amrwb0\n",
            "  libsox-dev libsox-fmt-all libsox-fmt-alsa libsox-fmt-ao libsox-fmt-base\n",
            "  libsox-fmt-mp3 libsox-fmt-oss libsox-fmt-pulse libsox3 libwavpack1\n",
            "0 upgraded, 16 newly installed, 0 to remove and 45 not upgraded.\n",
            "Need to get 1,053 kB of archives.\n",
            "After this operation, 4,061 kB of additional disk space will be used.\n",
            "Get:1 http://archive.ubuntu.com/ubuntu jammy/main amd64 libao-common all 1.2.2+20180113-1.1ubuntu3 [6,568 B]\n",
            "Get:2 http://archive.ubuntu.com/ubuntu jammy/main amd64 libao4 amd64 1.2.2+20180113-1.1ubuntu3 [35.2 kB]\n",
            "Get:3 http://archive.ubuntu.com/ubuntu jammy/universe amd64 libid3tag0 amd64 0.15.1b-14 [31.3 kB]\n",
            "Get:4 http://archive.ubuntu.com/ubuntu jammy/universe amd64 libmad0 amd64 0.15.1b-10ubuntu1 [63.1 kB]\n",
            "Get:5 http://archive.ubuntu.com/ubuntu jammy/universe amd64 libopencore-amrnb0 amd64 0.1.5-1 [94.8 kB]\n",
            "Get:6 http://archive.ubuntu.com/ubuntu jammy/universe amd64 libopencore-amrwb0 amd64 0.1.5-1 [49.1 kB]\n",
            "Get:7 http://archive.ubuntu.com/ubuntu jammy-updates/universe amd64 libsox3 amd64 14.4.2+git20190427-2+deb11u2ubuntu0.22.04.1 [240 kB]\n",
            "Get:8 http://archive.ubuntu.com/ubuntu jammy-updates/universe amd64 libsox-fmt-alsa amd64 14.4.2+git20190427-2+deb11u2ubuntu0.22.04.1 [11.2 kB]\n",
            "Get:9 http://archive.ubuntu.com/ubuntu jammy-updates/universe amd64 libsox-fmt-ao amd64 14.4.2+git20190427-2+deb11u2ubuntu0.22.04.1 [7,740 B]\n",
            "Get:10 http://archive.ubuntu.com/ubuntu jammy/main amd64 libwavpack1 amd64 5.4.0-1build2 [83.7 kB]\n",
            "Get:11 http://archive.ubuntu.com/ubuntu jammy-updates/universe amd64 libsox-fmt-base amd64 14.4.2+git20190427-2+deb11u2ubuntu0.22.04.1 [33.7 kB]\n",
            "Get:12 http://archive.ubuntu.com/ubuntu jammy-updates/universe amd64 libsox-fmt-mp3 amd64 14.4.2+git20190427-2+deb11u2ubuntu0.22.04.1 [17.3 kB]\n",
            "Get:13 http://archive.ubuntu.com/ubuntu jammy-updates/universe amd64 libsox-fmt-oss amd64 14.4.2+git20190427-2+deb11u2ubuntu0.22.04.1 [9,424 B]\n",
            "Get:14 http://archive.ubuntu.com/ubuntu jammy-updates/universe amd64 libsox-fmt-pulse amd64 14.4.2+git20190427-2+deb11u2ubuntu0.22.04.1 [7,732 B]\n",
            "Get:15 http://archive.ubuntu.com/ubuntu jammy-updates/universe amd64 libsox-fmt-all amd64 14.4.2+git20190427-2+deb11u2ubuntu0.22.04.1 [5,016 B]\n",
            "Get:16 http://archive.ubuntu.com/ubuntu jammy-updates/universe amd64 libsox-dev amd64 14.4.2+git20190427-2+deb11u2ubuntu0.22.04.1 [356 kB]\n",
            "Fetched 1,053 kB in 0s (4,031 kB/s)\n",
            "debconf: unable to initialize frontend: Dialog\n",
            "debconf: (No usable dialog-like program is installed, so the dialog based frontend cannot be used. at /usr/share/perl5/Debconf/FrontEnd/Dialog.pm line 78, <> line 16.)\n",
            "debconf: falling back to frontend: Readline\n",
            "debconf: unable to initialize frontend: Readline\n",
            "debconf: (This frontend requires a controlling tty.)\n",
            "debconf: falling back to frontend: Teletype\n",
            "dpkg-preconfigure: unable to re-open stdin: \n",
            "Selecting previously unselected package libao-common.\n",
            "(Reading database ... 121920 files and directories currently installed.)\n",
            "Preparing to unpack .../00-libao-common_1.2.2+20180113-1.1ubuntu3_all.deb ...\n",
            "Unpacking libao-common (1.2.2+20180113-1.1ubuntu3) ...\n",
            "Selecting previously unselected package libao4:amd64.\n",
            "Preparing to unpack .../01-libao4_1.2.2+20180113-1.1ubuntu3_amd64.deb ...\n",
            "Unpacking libao4:amd64 (1.2.2+20180113-1.1ubuntu3) ...\n",
            "Selecting previously unselected package libid3tag0:amd64.\n",
            "Preparing to unpack .../02-libid3tag0_0.15.1b-14_amd64.deb ...\n",
            "Unpacking libid3tag0:amd64 (0.15.1b-14) ...\n",
            "Selecting previously unselected package libmad0:amd64.\n",
            "Preparing to unpack .../03-libmad0_0.15.1b-10ubuntu1_amd64.deb ...\n",
            "Unpacking libmad0:amd64 (0.15.1b-10ubuntu1) ...\n",
            "Selecting previously unselected package libopencore-amrnb0:amd64.\n",
            "Preparing to unpack .../04-libopencore-amrnb0_0.1.5-1_amd64.deb ...\n",
            "Unpacking libopencore-amrnb0:amd64 (0.1.5-1) ...\n",
            "Selecting previously unselected package libopencore-amrwb0:amd64.\n",
            "Preparing to unpack .../05-libopencore-amrwb0_0.1.5-1_amd64.deb ...\n",
            "Unpacking libopencore-amrwb0:amd64 (0.1.5-1) ...\n",
            "Selecting previously unselected package libsox3:amd64.\n",
            "Preparing to unpack .../06-libsox3_14.4.2+git20190427-2+deb11u2ubuntu0.22.04.1_amd64.deb ...\n",
            "Unpacking libsox3:amd64 (14.4.2+git20190427-2+deb11u2ubuntu0.22.04.1) ...\n",
            "Selecting previously unselected package libsox-fmt-alsa:amd64.\n",
            "Preparing to unpack .../07-libsox-fmt-alsa_14.4.2+git20190427-2+deb11u2ubuntu0.22.04.1_amd64.deb ...\n",
            "Unpacking libsox-fmt-alsa:amd64 (14.4.2+git20190427-2+deb11u2ubuntu0.22.04.1) ...\n",
            "Selecting previously unselected package libsox-fmt-ao:amd64.\n",
            "Preparing to unpack .../08-libsox-fmt-ao_14.4.2+git20190427-2+deb11u2ubuntu0.22.04.1_amd64.deb ...\n",
            "Unpacking libsox-fmt-ao:amd64 (14.4.2+git20190427-2+deb11u2ubuntu0.22.04.1) ...\n",
            "Selecting previously unselected package libwavpack1:amd64.\n",
            "Preparing to unpack .../09-libwavpack1_5.4.0-1build2_amd64.deb ...\n",
            "Unpacking libwavpack1:amd64 (5.4.0-1build2) ...\n",
            "Selecting previously unselected package libsox-fmt-base:amd64.\n",
            "Preparing to unpack .../10-libsox-fmt-base_14.4.2+git20190427-2+deb11u2ubuntu0.22.04.1_amd64.deb ...\n",
            "Unpacking libsox-fmt-base:amd64 (14.4.2+git20190427-2+deb11u2ubuntu0.22.04.1) ...\n",
            "Selecting previously unselected package libsox-fmt-mp3:amd64.\n",
            "Preparing to unpack .../11-libsox-fmt-mp3_14.4.2+git20190427-2+deb11u2ubuntu0.22.04.1_amd64.deb ...\n",
            "Unpacking libsox-fmt-mp3:amd64 (14.4.2+git20190427-2+deb11u2ubuntu0.22.04.1) ...\n",
            "Selecting previously unselected package libsox-fmt-oss:amd64.\n",
            "Preparing to unpack .../12-libsox-fmt-oss_14.4.2+git20190427-2+deb11u2ubuntu0.22.04.1_amd64.deb ...\n",
            "Unpacking libsox-fmt-oss:amd64 (14.4.2+git20190427-2+deb11u2ubuntu0.22.04.1) ...\n",
            "Selecting previously unselected package libsox-fmt-pulse:amd64.\n",
            "Preparing to unpack .../13-libsox-fmt-pulse_14.4.2+git20190427-2+deb11u2ubuntu0.22.04.1_amd64.deb ...\n",
            "Unpacking libsox-fmt-pulse:amd64 (14.4.2+git20190427-2+deb11u2ubuntu0.22.04.1) ...\n",
            "Selecting previously unselected package libsox-fmt-all:amd64.\n",
            "Preparing to unpack .../14-libsox-fmt-all_14.4.2+git20190427-2+deb11u2ubuntu0.22.04.1_amd64.deb ...\n",
            "Unpacking libsox-fmt-all:amd64 (14.4.2+git20190427-2+deb11u2ubuntu0.22.04.1) ...\n",
            "Selecting previously unselected package libsox-dev:amd64.\n",
            "Preparing to unpack .../15-libsox-dev_14.4.2+git20190427-2+deb11u2ubuntu0.22.04.1_amd64.deb ...\n",
            "Unpacking libsox-dev:amd64 (14.4.2+git20190427-2+deb11u2ubuntu0.22.04.1) ...\n",
            "Setting up libsox3:amd64 (14.4.2+git20190427-2+deb11u2ubuntu0.22.04.1) ...\n",
            "Setting up libsox-fmt-oss:amd64 (14.4.2+git20190427-2+deb11u2ubuntu0.22.04.1) ...\n",
            "Setting up libao-common (1.2.2+20180113-1.1ubuntu3) ...\n",
            "Setting up libid3tag0:amd64 (0.15.1b-14) ...\n",
            "Setting up libopencore-amrwb0:amd64 (0.1.5-1) ...\n",
            "Setting up libsox-fmt-alsa:amd64 (14.4.2+git20190427-2+deb11u2ubuntu0.22.04.1) ...\n",
            "Setting up libao4:amd64 (1.2.2+20180113-1.1ubuntu3) ...\n",
            "Setting up libmad0:amd64 (0.15.1b-10ubuntu1) ...\n",
            "Setting up libwavpack1:amd64 (5.4.0-1build2) ...\n",
            "Setting up libopencore-amrnb0:amd64 (0.1.5-1) ...\n",
            "Setting up libsox-fmt-base:amd64 (14.4.2+git20190427-2+deb11u2ubuntu0.22.04.1) ...\n",
            "Setting up libsox-fmt-ao:amd64 (14.4.2+git20190427-2+deb11u2ubuntu0.22.04.1) ...\n",
            "Setting up libsox-fmt-mp3:amd64 (14.4.2+git20190427-2+deb11u2ubuntu0.22.04.1) ...\n",
            "Setting up libsox-fmt-pulse:amd64 (14.4.2+git20190427-2+deb11u2ubuntu0.22.04.1) ...\n",
            "Setting up libsox-fmt-all:amd64 (14.4.2+git20190427-2+deb11u2ubuntu0.22.04.1) ...\n",
            "Setting up libsox-dev:amd64 (14.4.2+git20190427-2+deb11u2ubuntu0.22.04.1) ...\n",
            "Processing triggers for man-db (2.10.2-1) ...\n",
            "Processing triggers for libc-bin (2.35-0ubuntu3.4) ...\n",
            "/sbin/ldconfig.real: /usr/local/lib/libtbbmalloc_proxy.so.2 is not a symbolic link\n",
            "\n",
            "/sbin/ldconfig.real: /usr/local/lib/libtbbbind_2_0.so.3 is not a symbolic link\n",
            "\n",
            "/sbin/ldconfig.real: /usr/local/lib/libtbbbind_2_5.so.3 is not a symbolic link\n",
            "\n",
            "/sbin/ldconfig.real: /usr/local/lib/libtbb.so.12 is not a symbolic link\n",
            "\n",
            "/sbin/ldconfig.real: /usr/local/lib/libtbbbind.so.3 is not a symbolic link\n",
            "\n",
            "/sbin/ldconfig.real: /usr/local/lib/libtbbmalloc.so.2 is not a symbolic link\n",
            "\n"
          ]
        }
      ]
    },
    {
      "cell_type": "markdown",
      "metadata": {
        "id": "a0L66fvWiYHK"
      },
      "source": [
        "# Setup"
      ]
    },
    {
      "cell_type": "markdown",
      "metadata": {
        "id": "wvB7SLVTiYHM"
      },
      "source": [
        "This example script requires a number of extra packages to be installed:\n",
        "\n",
        "<list>\n",
        "    <li><a href=\"https://github.com/SeanNaren/deepspeech.pytorch\">deepspeech_pytorch</a></li>\n",
        "    <li><a href=\"https://github.com/omry/omegaconf\">omegaconf</a>\n",
        "    <li><a href=\"https://github.com/PyTorchLightning/pytorch-lightning\">pytorch_lightning</a></li>\n",
        "</list>\n",
        "\n",
        "The $\\mathrm{DeepSpeech}$ class defined below is a slightly modified version of the similarly named class in the <a href=\"https://github.com/SeanNaren/deepspeech.pytorch/blob/master/deepspeech_pytorch/model.py\">models.py</a> module of the $\\mathrm{deepspeech\\_pytorch}$ package.\n",
        "\n",
        "To replicate the results in this notebook, the following additional resources are provided:\n",
        "\n",
        "<list>\n",
        "    <li>Pretrained DeepSpeech model: $\\text{deepspeech2-pretrained.ckpt}$</li>\n",
        "    <li>Sample 4-second 16KHz audio clips extracted from the <em>test-clean</em> and <em>dev-clean</em> subsets of the LibriSpeech corpus: $\\text{segments-librispeech-*}$</li>\n",
        "</list>\n",
        "\n",
        "To replicate the results here, extract $\\text{Examples/resources.tar}$ and place the contents in a folder named $\\text{resources/}$."
      ]
    },
    {
      "cell_type": "code",
      "source": [
        "%cd /content/Examples/"
      ],
      "metadata": {
        "colab": {
          "base_uri": "https://localhost:8080/"
        },
        "id": "JN8S84r0tK2a",
        "outputId": "fab19276-3560-49ce-e1be-adf57b1f4c60"
      },
      "execution_count": null,
      "outputs": [
        {
          "output_type": "stream",
          "name": "stdout",
          "text": [
            "/content/Examples\n"
          ]
        }
      ]
    },
    {
      "cell_type": "code",
      "execution_count": null,
      "metadata": {
        "colab": {
          "base_uri": "https://localhost:8080/"
        },
        "id": "9xLpZceQiYHN",
        "outputId": "4fc2f9c5-74e7-4e33-90c0-f3a8c2bd940b"
      },
      "outputs": [
        {
          "output_type": "stream",
          "name": "stderr",
          "text": [
            "<ipython-input-9-a7c30fe43a30>:10: UserWarning: torchaudio._backend.set_audio_backend has been deprecated. With dispatcher enabled, this function is no-op. You can remove the function call.\n",
            "  torchaudio.set_audio_backend(\"sox_io\")\n"
          ]
        }
      ],
      "source": [
        "import os\n",
        "import math\n",
        "import numpy as np\n",
        "import matplotlib.pyplot as plt\n",
        "\n",
        "import torch\n",
        "import torch.nn as nn\n",
        "import torchaudio\n",
        "from torch.cuda.amp import autocast\n",
        "torchaudio.set_audio_backend(\"sox_io\")\n",
        "\n",
        "from omegaconf import OmegaConf\n",
        "from deepspeech_pytorch.configs.train_config import SpectConfig, BiDirectionalConfig, AdamConfig, SGDConfig\n",
        "from deepspeech_pytorch.decoder import GreedyDecoder\n",
        "from deepspeech_pytorch.utils import load_model\n",
        "from deepspeech_pytorch.validation import CharErrorRate, WordErrorRate\n",
        "from deepspeech_pytorch.model import SequenceWise, MaskConv, InferenceBatchSoftmax, Lookahead\n",
        "from deepspeech_pytorch.enums import RNNType, SpectrogramWindow\n",
        "import pytorch_lightning as pl\n",
        "\n",
        "import PyTCI.tci as tci\n",
        "import PyTCI.audio as fx\n",
        "\n",
        "device = torch.device(\"cuda:0\" if torch.cuda.is_available() else \"cpu\")\n",
        "\n",
        "\n",
        "LABELS = list(\"_'ABCDEFGHIJKLMNOPQRSTUVWXYZ \")\n",
        "MODEL_CFG = BiDirectionalConfig(rnn_type=RNNType.lstm, hidden_size=1024, hidden_layers=7)\n",
        "OPTIM_CFG = AdamConfig(learning_rate=0.00015, learning_anneal=0.99, weight_decay=1e-05, eps=1e-08, betas=[0.9, 0.999])\n",
        "SPECT_CFG = SpectConfig(sample_rate=16000, window_size=0.02, window_stride=0.01, window=SpectrogramWindow.hamming)\n",
        "PRECISION = 16\n",
        "\n",
        "\n",
        "class SpectrogramParser(nn.Module):\n",
        "    def __init__(self, audio_conf: SpectConfig, normalize: bool = False):\n",
        "        \"\"\"\n",
        "       \tParses audio file into spectrogram with optional normalization\n",
        "       \t:param audio_conf: Dictionary containing the sample rate, window and the window length/stride in seconds\n",
        "       \t:param normalize(default False):  Apply standard mean and deviation normalization to audio tensor\n",
        "       \t\"\"\"\n",
        "        super().__init__()\n",
        "        self.window_stride = audio_conf.window_stride\n",
        "        self.window_size = audio_conf.window_size\n",
        "        self.sample_rate = audio_conf.sample_rate\n",
        "        self.window = audio_conf.window.value\n",
        "        self.normalize = normalize\n",
        "\n",
        "        n_fft = int(self.sample_rate * self.window_size)\n",
        "        win_length = n_fft\n",
        "        hop_length = int(self.sample_rate * self.window_stride)\n",
        "        if self.window == 'hamming':\n",
        "            window = torch.hamming_window\n",
        "        else:\n",
        "            raise NotImplementedError()\n",
        "\n",
        "        self.transform = torchaudio.transforms.Spectrogram(\n",
        "            n_fft, win_length, hop_length, window_fn=window, power=1, normalized=False)\n",
        "\n",
        "    @torch.no_grad()\n",
        "    def forward(self, audio):\n",
        "        if audio.shape[-1] == 1:\n",
        "            audio = audio.squeeze(dim=-1) # mono\n",
        "        else:\n",
        "            audio = audio.mean(dim=-1) # multiple channels, average\n",
        "\n",
        "        # trim final samples if extra samples left out from downsampling doing conversion\n",
        "        audio = audio[:-round(len(audio) % self.transform.hop_length)-1]\n",
        "\n",
        "        spect = self.transform(audio)\n",
        "        spect = torch.log1p(spect)\n",
        "\n",
        "        if self.normalize:\n",
        "            mean = spect.mean()\n",
        "            std = spect.std()\n",
        "            spect.add_(-mean)\n",
        "            spect.div_(std)\n",
        "\n",
        "        # reshape to [time x frequency]\n",
        "        spect = spect.T.contiguous()\n",
        "\n",
        "        return spect\n",
        "\n",
        "\n",
        "class BatchRNN(nn.Module):\n",
        "    def __init__(self, input_size, hidden_size, rnn_type=nn.LSTM, bidirectional=False, batch_norm=True):\n",
        "        super(BatchRNN, self).__init__()\n",
        "        self.input_size = input_size\n",
        "        self.hidden_size = hidden_size\n",
        "        self.bidirectional = bidirectional\n",
        "        self.batch_norm = SequenceWise(nn.BatchNorm1d(input_size)) if batch_norm else None\n",
        "        self.rnn = rnn_type(input_size=input_size, hidden_size=hidden_size,\n",
        "                            bidirectional=bidirectional, bias=True)\n",
        "        self.num_directions = 2 if bidirectional else 1\n",
        "\n",
        "    def flatten_parameters(self):\n",
        "        self.rnn.flatten_parameters()\n",
        "\n",
        "    def forward(self, x, output_lengths):\n",
        "        if self.batch_norm is not None:\n",
        "            x = self.batch_norm(x)\n",
        "        x = nn.utils.rnn.pack_padded_sequence(x, output_lengths, enforce_sorted=False)\n",
        "        x, h = self.rnn(x)\n",
        "        x, _ = nn.utils.rnn.pad_packed_sequence(x)\n",
        "        if self.bidirectional:\n",
        "            x = x.view(x.size(0), x.size(1), 2, -1).sum(2).view(x.size(0), x.size(1), -1)  # (TxNxH*2) -> (TxNxH) by sum\n",
        "        return x\n",
        "\n",
        "\n",
        "class DeepSpeech(pl.LightningModule):\n",
        "    def __init__(self, labels=LABELS, model_cfg=MODEL_CFG, precision=PRECISION, optim_cfg=OPTIM_CFG, spect_cfg=SPECT_CFG):\n",
        "        super().__init__()\n",
        "        self.save_hyperparameters()\n",
        "        self.model_cfg = model_cfg\n",
        "        self.precision = precision\n",
        "        self.optim_cfg = optim_cfg\n",
        "        self.spect_cfg = spect_cfg\n",
        "        self.bidirectional = True if OmegaConf.get_type(model_cfg) is BiDirectionalConfig else False\n",
        "\n",
        "        self.labels = labels\n",
        "        num_classes = len(self.labels)\n",
        "\n",
        "        self.conv = MaskConv(nn.Sequential(\n",
        "            nn.Conv2d(1, 32, kernel_size=(41, 11), stride=(2, 2), padding=(20, 5)),\n",
        "            nn.BatchNorm2d(32),\n",
        "            nn.Hardtanh(0, 20, inplace=True),\n",
        "            nn.Conv2d(32, 32, kernel_size=(21, 11), stride=(2, 1), padding=(10, 5)),\n",
        "            nn.BatchNorm2d(32),\n",
        "            nn.Hardtanh(0, 20, inplace=True)\n",
        "        ))\n",
        "        # Based on above convolutions and spectrogram size using conv formula (W - F + 2P)/ S+1\n",
        "        rnn_input_size = int(math.floor((self.spect_cfg.sample_rate * self.spect_cfg.window_size) / 2) + 1)\n",
        "        rnn_input_size = int(math.floor(rnn_input_size + 2 * 20 - 41) / 2 + 1)\n",
        "        rnn_input_size = int(math.floor(rnn_input_size + 2 * 10 - 21) / 2 + 1)\n",
        "        rnn_input_size *= 32\n",
        "\n",
        "        self.rnns = nn.Sequential(\n",
        "            BatchRNN(\n",
        "                input_size=rnn_input_size,\n",
        "                hidden_size=self.model_cfg.hidden_size,\n",
        "                rnn_type=self.model_cfg.rnn_type.value,\n",
        "                bidirectional=self.bidirectional,\n",
        "                batch_norm=False\n",
        "            ),\n",
        "            *(\n",
        "                BatchRNN(\n",
        "                    input_size=self.model_cfg.hidden_size,\n",
        "                    hidden_size=self.model_cfg.hidden_size,\n",
        "                    rnn_type=self.model_cfg.rnn_type.value,\n",
        "                    bidirectional=self.bidirectional\n",
        "                ) for x in range(self.model_cfg.hidden_layers - 3)\n",
        "            )\n",
        "        )\n",
        "\n",
        "        self.lookahead = nn.Sequential(\n",
        "            # consider adding batch norm?\n",
        "            Lookahead(self.model_cfg.hidden_size, context=self.model_cfg.lookahead_context),\n",
        "            nn.Hardtanh(0, 20, inplace=True)\n",
        "        ) if not self.bidirectional else None\n",
        "\n",
        "        fully_connected = nn.Sequential(\n",
        "            nn.BatchNorm1d(self.model_cfg.hidden_size),\n",
        "            nn.Linear(self.model_cfg.hidden_size, num_classes, bias=False)\n",
        "        )\n",
        "        self.fc = nn.Sequential(\n",
        "            SequenceWise(fully_connected),\n",
        "        )\n",
        "        self.inference_softmax = InferenceBatchSoftmax()\n",
        "        self.criterion = nn.CTCLoss(blank=self.labels.index('_'), reduction='sum', zero_infinity=True)\n",
        "        self.evaluation_decoder = GreedyDecoder(self.labels)  # Decoder used for validation\n",
        "        self.wer = WordErrorRate(\n",
        "            decoder=self.evaluation_decoder,\n",
        "            target_decoder=self.evaluation_decoder\n",
        "        )\n",
        "        self.cer = CharErrorRate(\n",
        "            decoder=self.evaluation_decoder,\n",
        "            target_decoder=self.evaluation_decoder\n",
        "        )\n",
        "\n",
        "    def forward(self, x, lengths):\n",
        "        lengths = lengths.cpu().int()\n",
        "        output_lengths = self.get_seq_lens(lengths)\n",
        "        x, _ = self.conv(x.transpose(1,2).unsqueeze(1).contiguous(), output_lengths)\n",
        "\n",
        "        sizes = x.size()\n",
        "        x = x.view(sizes[0], sizes[1] * sizes[2], sizes[3])  # Collapse feature dimension\n",
        "        x = x.transpose(1, 2).transpose(0, 1).contiguous()  # TxNxH\n",
        "\n",
        "        for rnn in self.rnns:\n",
        "            x = rnn(x, output_lengths)\n",
        "\n",
        "        if not self.bidirectional:  # no need for lookahead layer in bidirectional\n",
        "            x = self.lookahead(x)\n",
        "\n",
        "        x = self.fc(x)\n",
        "        x = x.transpose(0, 1)\n",
        "        # identity in training mode, softmax in eval mode\n",
        "        x = self.inference_softmax(x)\n",
        "        return x, output_lengths\n",
        "\n",
        "    def unpack_batch(self, batch):\n",
        "        inputs = batch.get('inputs', None)\n",
        "        input_lengths = batch.get('input_lengths', None)\n",
        "        labels = batch.get('labels', None)\n",
        "        label_lengths = batch.get('label_lengths', None)\n",
        "\n",
        "        return inputs, labels, input_lengths, label_lengths\n",
        "\n",
        "    def training_step(self, batch, batch_idx):\n",
        "        inputs, targets, input_sizes, target_sizes = self.unpack_batch(batch)\n",
        "        if inputs is None: # skip step\n",
        "            return None\n",
        "\n",
        "        out, output_sizes = self(inputs, input_sizes)\n",
        "        out = out.transpose(0, 1)  # TxNxH\n",
        "        out = out.log_softmax(-1)\n",
        "\n",
        "        loss = self.criterion(out, targets, output_sizes, target_sizes)\n",
        "        self.log('train_loss', loss)\n",
        "        return loss\n",
        "\n",
        "    def validation_step(self, batch, batch_idx):\n",
        "        inputs, targets, input_sizes, target_sizes = self.unpack_batch(batch)\n",
        "        if inputs is None: # skip step\n",
        "            return\n",
        "\n",
        "        inputs = inputs.to(self.device)\n",
        "        with autocast(enabled=self.precision == 16):\n",
        "            out, output_sizes = self(inputs, input_sizes)\n",
        "        decoded_output, _ = self.evaluation_decoder.decode(out, output_sizes)\n",
        "\n",
        "        self.wer(preds=out, preds_sizes=output_sizes, targets=targets, target_sizes=target_sizes)\n",
        "        self.cer(preds=out, preds_sizes=output_sizes, targets=targets, target_sizes=target_sizes)\n",
        "        self.log('wer', self.wer.compute(), prog_bar=True, on_epoch=True)\n",
        "        self.log('cer', self.cer.compute(), prog_bar=True, on_epoch=True)\n",
        "\n",
        "    def test_step(self, *args):\n",
        "        return self.validation_step(*args)\n",
        "\n",
        "    def configure_optimizers(self):\n",
        "        if OmegaConf.get_type(self.optim_cfg) is SGDConfig:\n",
        "            optimizer = torch.optim.SGD(\n",
        "                params=self.parameters(),\n",
        "                lr=self.optim_cfg.learning_rate,\n",
        "                momentum=self.optim_cfg.momentum,\n",
        "                nesterov=True,\n",
        "                weight_decay=self.optim_cfg.weight_decay\n",
        "            )\n",
        "        elif OmegaConf.get_type(self.optim_cfg) is AdamConfig:\n",
        "            optimizer = torch.optim.AdamW(\n",
        "                params=self.parameters(),\n",
        "                lr=self.optim_cfg.learning_rate,\n",
        "                betas=self.optim_cfg.betas,\n",
        "                eps=self.optim_cfg.eps,\n",
        "                weight_decay=self.optim_cfg.weight_decay\n",
        "            )\n",
        "        else:\n",
        "            raise ValueError(\"Optimizer has not been specified correctly.\")\n",
        "\n",
        "        scheduler = torch.optim.lr_scheduler.ExponentialLR(\n",
        "            optimizer=optimizer,\n",
        "            gamma=self.optim_cfg.learning_anneal\n",
        "        )\n",
        "        return [optimizer], [scheduler]\n",
        "\n",
        "    def get_seq_lens(self, input_length):\n",
        "        \"\"\"\n",
        "        Given a 1D Tensor or Variable containing integer sequence lengths, return a 1D tensor or variable\n",
        "        containing the size sequences that will be output by the network.\n",
        "        :param input_length: 1D Tensor\n",
        "        :return: 1D Tensor scaled by model\n",
        "        \"\"\"\n",
        "        seq_len = input_length\n",
        "        for m in self.conv.modules():\n",
        "            if type(m) == nn.modules.conv.Conv2d:\n",
        "                seq_len = torch.div(\n",
        "                    seq_len + 2 * m.padding[1] - m.dilation[1] * (m.kernel_size[1] - 1) - 1,\n",
        "                    m.stride[1], rounding_mode='floor'\n",
        "                ) + 1\n",
        "        return seq_len.int()\n",
        "\n",
        "    @torch.no_grad()\n",
        "    def activation_fx(self, layer, log=True):\n",
        "        # waveform 2 spectrogram parser\n",
        "        spect_parser = SpectrogramParser(audio_conf=SPECT_CFG, normalize=True).to(self.device)\n",
        "\n",
        "        def activation(x, /, layer=layer):\n",
        "            # convert to spectrogram\n",
        "            x = spect_parser(x)\n",
        "            lengths = torch.tensor([x.shape[0]], dtype=int)\n",
        "            output_lengths = self.get_seq_lens(lengths)\n",
        "\n",
        "            # make into 4D tensor of [batch x channel x frequency x time]\n",
        "            # and move to same device as the model\n",
        "            x = x.T[np.newaxis, np.newaxis, ...].contiguous().to(device)\n",
        "\n",
        "            for module in self.conv.seq_module:\n",
        "                x = module(x)\n",
        "                mask = torch.BoolTensor(x.size()).fill_(0)\n",
        "                if x.is_cuda:\n",
        "                    mask = mask.cuda()\n",
        "                for i, length in enumerate(output_lengths):\n",
        "                    length = length.item()\n",
        "                    if (mask[i].size(2) - length) > 0:\n",
        "                        mask[i].narrow(2, length, mask[i].size(2) - length).fill_(1)\n",
        "                x = x.masked_fill(mask, 0)\n",
        "\n",
        "                if isinstance(module, torch.nn.Hardtanh):\n",
        "                    layer -= 1\n",
        "                    if layer < 0:\n",
        "                        break\n",
        "\n",
        "            sizes = x.size()\n",
        "            x = x.view(sizes[0], sizes[1] * sizes[2], sizes[3])  # Collapse feature dimension\n",
        "            x = x.transpose(1, 2).transpose(0, 1).contiguous()  # TxNxH\n",
        "            if layer < 0:\n",
        "                #import pdb; pdb.set_trace()\n",
        "                return x.squeeze(dim=1).cpu()\n",
        "\n",
        "            for rnn in self.rnns:\n",
        "                x = rnn(x, output_lengths)\n",
        "                layer -= 1\n",
        "                if layer < 0:\n",
        "                    return x.squeeze(dim=1).cpu()\n",
        "\n",
        "            if not self.bidirectional:  # no need for lookahead layer in bidirectional\n",
        "                x = self.lookahead(x)\n",
        "\n",
        "            x = self.fc(x)\n",
        "\n",
        "            # identity in training mode, softmax in eval mode\n",
        "            if log:\n",
        "                x = torch.nn.functional.log_softmax(x, dim=-1)\n",
        "            else:\n",
        "                x = torch.nn.functional.softmax(x, dim=-1)\n",
        "            layer -= 1\n",
        "            if layer < 0:\n",
        "                return x.squeeze(dim=1).cpu()\n",
        "\n",
        "            return None\n",
        "\n",
        "        return activation\n",
        "\n",
        "\n",
        "# Pretrained DeepSpeech2 model\n",
        "model = DeepSpeech().to(device).eval()\n",
        "model.load_state_dict(torch.load('resources/deepspeech2-pretrained.ckpt',map_location=torch.device('cpu'))['state_dict'])\n",
        "\n",
        "# Model output sampling rate\n",
        "out_sr = 50"
      ]
    },
    {
      "cell_type": "markdown",
      "metadata": {
        "id": "4BHYw80OiYHO"
      },
      "source": [
        "# Measuring integration windows"
      ]
    },
    {
      "cell_type": "markdown",
      "metadata": {
        "id": "sKPk1p0xiYHP"
      },
      "source": [
        "This section demonstrates how to measure integration windows for a more complex deep neural network with multiple layers. To do this, we need to define a function that takes in input $\\mathrm{x}$ and returns output $\\mathrm{y}$, which in this case is the activations at a specific layer $\\mathrm{layer}$. The shape of both $\\mathrm{x}$ and $\\mathrm{y}$ should be of form $[ time \\times channels ]$.\n",
        "\n",
        "We first define a wrapper function to estimate integration windows of all nodes in a layer:"
      ]
    },
    {
      "cell_type": "code",
      "execution_count": null,
      "metadata": {
        "id": "BrEajDq1iYHQ"
      },
      "outputs": [],
      "source": [
        "# Wrapper function to estimate integration windows of a layer\n",
        "def estimate_layer_intwin(layer, stimuli, segment_durs, in_sr, out_sr):\n",
        "    sequence_pairs = tci.generate_sequence_pair(\n",
        "        stimuli, in_sr, segment_durs\n",
        "    )\n",
        "\n",
        "    response_pairs = tci.infer_sequence_pair(\n",
        "        model.activation_fx(layer), sequence_pairs, segment_durs,\n",
        "        in_sr=in_sr, out_sr=out_sr, block_size=48.0, context_size=8.0, device=device\n",
        "    )\n",
        "\n",
        "    SAR_pairs = tci.rearrange_sequence_pair(\n",
        "        response_pairs, out_sr, segment_durs\n",
        "    )\n",
        "\n",
        "    cross_context_corrs = tci.cross_context_corrs(\n",
        "        SAR_pairs, batch_size=100\n",
        "    )\n",
        "\n",
        "    integration_windows = tci.estimate_integration_window(\n",
        "        cross_context_corrs, segment_durs, threshold=0.75\n",
        "    )\n",
        "\n",
        "    return integration_windows"
      ]
    },
    {
      "cell_type": "markdown",
      "metadata": {
        "id": "4YURiI1viYHQ"
      },
      "source": [
        "We now analyze the first, fourth and sixth layers of the model:"
      ]
    },
    {
      "cell_type": "code",
      "source": [
        "segment_durs = tci.SEGMENT_DURS"
      ],
      "metadata": {
        "id": "gNCgJEUA-j2Q"
      },
      "execution_count": null,
      "outputs": []
    },
    {
      "cell_type": "code",
      "execution_count": null,
      "metadata": {
        "colab": {
          "base_uri": "https://localhost:8080/"
        },
        "id": "0yLjezXAiYHR",
        "outputId": "d1a5da81-453a-494f-b308-eea95aa3b092"
      },
      "outputs": [
        {
          "output_type": "stream",
          "name": "stdout",
          "text": [
            "> Conv1... "
          ]
        }
      ],
      "source": [
        "stimuli, in_sr = tci.load_stimuli('resources/segments-librispeech-1k/')\n",
        "\n",
        "\n",
        "print('> Conv1... ', flush=True, end='')\n",
        "intwin_conv1_norm = estimate_layer_intwin(0, stimuli, segment_durs, in_sr, out_sr)\n",
        "print('Done.')\n",
        "\n",
        "print('> LSTM2... ', flush=True, end='')\n",
        "intwin_lstm2_norm = estimate_layer_intwin(3, stimuli, segment_durs, in_sr, out_sr)\n",
        "print('Done.')\n",
        "\n",
        "print('> LSTM4... ', flush=True, end='')\n",
        "intwin_lstm4_norm = estimate_layer_intwin(5, stimuli, segment_durs, in_sr, out_sr)\n",
        "print('Done.')"
      ]
    },
    {
      "cell_type": "markdown",
      "metadata": {
        "id": "vJKVo0wtiYHR"
      },
      "source": [
        "The results show increasing integration windows as we look deeper in the network."
      ]
    },
    {
      "cell_type": "code",
      "execution_count": null,
      "metadata": {
        "colab": {
          "base_uri": "https://localhost:8080/",
          "height": 408
        },
        "id": "LTEGKBUxiYHR",
        "outputId": "e3710cd3-2368-4c6d-ca04-f2bc126c7164"
      },
      "outputs": [
        {
          "output_type": "display_data",
          "data": {
            "text/plain": [
              "<Figure size 600x400 with 1 Axes>"
            ],
            "image/png": "[encoded data removed]"
          },
          "metadata": {}
        }
      ],
      "source": [
        "plt.figure(figsize=(6, 4))\n",
        "plt.hist(np.log10(intwin_conv1_norm), bins=50, alpha=0.8, label='Conv1')\n",
        "plt.hist(np.log10(intwin_lstm2_norm), bins=50, alpha=0.8, label='LSTM2')\n",
        "plt.hist(np.log10(intwin_lstm4_norm), bins=50, alpha=0.8, label='LSTM4')\n",
        "plt.xticks(np.log10([0.02, 0.1, 0.5, 2.5]), [20, 100, 500, 2500], fontsize=16)\n",
        "plt.yticks([0, 200], fontsize=16)\n",
        "plt.xlabel('Integration window (ms)', fontsize=16)\n",
        "plt.ylabel('Density', fontsize=16)\n",
        "plt.legend(loc='upper left', fontsize=14)\n",
        "plt.xlim(np.log10([0.02, 2.5]))\n",
        "plt.show()"
      ]
    },
    {
      "cell_type": "markdown",
      "metadata": {
        "id": "IIlxHTUYiYHS"
      },
      "source": [
        "# Measuring adaptation indices"
      ]
    },
    {
      "cell_type": "markdown",
      "metadata": {
        "id": "xlldFm-QiYHT"
      },
      "source": [
        "In this section, we study whether the model adapts its integration window depending on the input speech rate, to match the length of abstract structures in speech, rather than fixed integration windows, i.e., a fixed duration of speech.\n",
        "\n",
        "To do this, we can either preprocess the stimuli independently or use the `process` parameter of `load_stimuli` and `process_stimuli`. There are a number of basic audio processing functions based on the SoX backend of the torchaudio library in the `PyTCI.audio` module, including audio stretching while preserving the audio pitch, named `tempo_fx`, which we use in this example.\n",
        "\n",
        "We then compute the adaptation index, as defined in the paper:\n",
        "\n",
        "\\begin{equation*}\n",
        "\\mathrm{adaptation\\;index} = \\frac{I_{mod}/I_{ref} - 1}{D_{mod}/D_{ref} - 1}\n",
        "\\end{equation*}\n",
        "\n",
        "where $I_{mod}$ and $I_{ref}$ are integration windows for modified (i.e., slowed-down) and reference (i.e., natural) stimuli, and $D_{mod}/D_{ref}$ is the ratio of the duration of the stimuli between modified and reference conditions. Given the definition, a non-adaptive model with a fixed window would have an adaptation index of ~0, and a fully-adaptive model with flexible integration would have an adaptation index of ~1.\n",
        "\n",
        "<strong>NOTE</strong>: the scaling factor input to the `temp_fx` and `speed_fx` functions are the scaling factor for the rate, not duration, so to increase stimuli duration by 60%, we have to set the rate scaling to $\\frac{1}{1.6}$."
      ]
    },
    {
      "cell_type": "code",
      "execution_count": null,
      "metadata": {
        "colab": {
          "base_uri": "https://localhost:8080/"
        },
        "id": "7myjZ2dEiYHT",
        "outputId": "d0d4ce07-de91-459f-aa5f-bdf6ba1eb304"
      },
      "outputs": [
        {
          "output_type": "stream",
          "name": "stdout",
          "text": [
            "> Conv1 (slowed-down)... "
          ]
        }
      ],
      "source": [
        "# Estimate integration periods for 60% longer stimuli\n",
        "time_stretch_factor = 1.6\n",
        "stimuli, in_sr = tci.load_stimuli(\n",
        "    'resources/segments-librispeech-1k/',process=fx.tempo_fx(scale_factor=1/time_stretch_factor)\n",
        ")\n",
        "\n",
        "print('> Conv1 (slowed-down)... ', flush=True, end='')\n",
        "intwin_conv1_slow = estimate_layer_intwin(0, stimuli, segment_durs, in_sr, out_sr)\n",
        "print('Done.')\n",
        "\n",
        "print('> LSTM2 (slowed-down)... ', flush=True, end='')\n",
        "intwin_lstm2_slow = estimate_layer_intwin(3, stimuli, segment_durs, in_sr, out_sr)\n",
        "print('Done.')\n",
        "\n",
        "print('> LSTM4 (slowed-down)... ', flush=True, end='')\n",
        "intwin_lstm4_slow = estimate_layer_intwin(5, stimuli, segment_durs, in_sr, out_sr)\n",
        "print('Done.')"
      ]
    },
    {
      "cell_type": "markdown",
      "metadata": {
        "id": "RGeB8ncYiYHU"
      },
      "source": [
        "We calculate the adaptation index as described in the paper, based on the two conditions:"
      ]
    },
    {
      "cell_type": "code",
      "execution_count": null,
      "metadata": {
        "id": "xPhRWwK9iYHU"
      },
      "outputs": [],
      "source": [
        "adaptation_conv1 = (intwin_conv1_slow/intwin_conv1_norm - 1) / (time_stretch_factor - 1)\n",
        "adaptation_lstm2 = (intwin_lstm2_slow/intwin_lstm2_norm - 1) / (time_stretch_factor - 1)\n",
        "adaptation_lstm4 = (intwin_lstm4_slow/intwin_lstm4_norm - 1) / (time_stretch_factor - 1)"
      ]
    },
    {
      "cell_type": "markdown",
      "metadata": {
        "id": "1RbLQ6rEiYHV"
      },
      "source": [
        "Comparing the integration windows between the two conditions, demonstrates how the network layers transition from short and fixed integration windows (close to black dashed line) to long and flexible integrations (close to red dashed line):"
      ]
    },
    {
      "cell_type": "code",
      "execution_count": null,
      "metadata": {
        "id": "Sy4_B9BriYHV",
        "outputId": "7cceb239-d41a-41bb-fe87-9463b04fdda8"
      },
      "outputs": [
        {
          "data": {
            "image/png": "[encoded data removed]",
            "text/plain": [
              "<Figure size 432x432 with 1 Axes>"
            ]
          },
          "metadata": {
            "needs_background": "light"
          },
          "output_type": "display_data"
        }
      ],
      "source": [
        "plt.figure(figsize=(6, 6))\n",
        "plt.plot(np.log10([0.018, 1.28]), np.log10([0.018, 1.28]), 'k--', linewidth=1)\n",
        "plt.plot(np.log10([0.018, 1.28]), np.log10([0.018, 1.28])+np.log10(1.6), 'r--', linewidth=1)\n",
        "plt.scatter(\n",
        "    np.log10(intwin_conv1_norm),\n",
        "    np.log10(intwin_conv1_slow),\n",
        "    2, alpha=0.3, label='Conv1'\n",
        ")\n",
        "plt.scatter(\n",
        "    np.log10(intwin_lstm2_norm),\n",
        "    np.log10(intwin_lstm2_slow),\n",
        "    2, alpha=0.3, label='LSTM2'\n",
        ")\n",
        "plt.scatter(\n",
        "    np.log10(intwin_lstm4_norm),\n",
        "    np.log10(intwin_lstm4_slow),\n",
        "    2, alpha=0.3, label='LSTM4'\n",
        ")\n",
        "plt.xticks(np.log10([0.02, 0.08, 0.32, 1.28]), [20, 80, 320, 1280], fontsize=16)\n",
        "plt.yticks(np.log10([0.02, 0.08, 0.32, 1.28]), [20, 80, 320, 1280], fontsize=16)\n",
        "plt.xlabel('Integration window for\\nnatural speech (ms)', fontsize=16)\n",
        "plt.ylabel('Integration window for\\nslowed-down speech (ms)', fontsize=16)\n",
        "plt.xlim(np.log10([0.02, 1.28]))\n",
        "plt.ylim(np.log10([0.02, 1.28]))\n",
        "legend = plt.legend(loc='lower right', fontsize=14)\n",
        "for h in legend.legendHandles:\n",
        "    h.set_sizes([25])\n",
        "    h.set_alpha(1)\n",
        "plt.show()"
      ]
    },
    {
      "cell_type": "markdown",
      "metadata": {
        "id": "G1U4wnCWiYHV"
      },
      "source": [
        "The adaptation indices quantify this transition in a clearer way:"
      ]
    },
    {
      "cell_type": "code",
      "execution_count": null,
      "metadata": {
        "id": "H4txBBS7iYHV",
        "outputId": "8a222235-0702-4e12-8eec-4e334e4e940d"
      },
      "outputs": [
        {
          "data": {
            "image/png": "[encoded data removed]",
            "text/plain": [
              "<Figure size 432x288 with 1 Axes>"
            ]
          },
          "metadata": {
            "needs_background": "light"
          },
          "output_type": "display_data"
        }
      ],
      "source": [
        "plt.figure(figsize=(6, 4))\n",
        "plt.hist(adaptation_conv1, bins=100, alpha=0.6, range=(-0.24, 1.24), label='Conv1')\n",
        "plt.hist(adaptation_lstm2, bins=50, alpha=0.6, range=(-0.24, 1.24), label='LSTM2')\n",
        "plt.hist(adaptation_lstm4, bins=50, alpha=0.6, range=(-0.24, 1.24), label='LSTM4')\n",
        "plt.legend(fontsize=14)\n",
        "plt.xticks([0, 0.25, 0.5, 0.75, 1.0], fontsize=16)\n",
        "plt.yticks([0, 100], fontsize=16)\n",
        "plt.plot([0, 0], [0, 150], 'k--')\n",
        "plt.plot([1, 1], [0, 150], 'r--')\n",
        "plt.xlabel('Adaptation index', fontsize=16)\n",
        "plt.ylabel('Density', fontsize=16)\n",
        "plt.xlim([-0.24, 1.24])\n",
        "plt.ylim([0, 150])\n",
        "plt.show()"
      ]
    },
    {
      "cell_type": "code",
      "source": [
        "## Time Compression"
      ],
      "metadata": {
        "id": "tmRDY4fE46la"
      },
      "execution_count": null,
      "outputs": []
    },
    {
      "cell_type": "code",
      "source": [
        "# Estimate integration periods for 17% shorter stimuli\n",
        "time_stretch_factor = 1.2\n",
        "stimuli, in_sr = tci.load_stimuli(\n",
        "    'resources/segments-librispeech-1k/',process=fx.tempo_fx(scale_factor=time_stretch_factor)\n",
        ")\n",
        "\n",
        "print('> Conv1 (sped-up)... ', flush=True, end='')\n",
        "intwin_conv1_slow = estimate_layer_intwin(0, stimuli, segment_durs, in_sr, out_sr)\n",
        "print('Done.')\n",
        "\n",
        "print('> LSTM2 (sped-up)... ', flush=True, end='')\n",
        "intwin_lstm2_slow = estimate_layer_intwin(3, stimuli, segment_durs, in_sr, out_sr)\n",
        "print('Done.')\n",
        "\n",
        "print('> LSTM4 (sped-up)... ', flush=True, end='')\n",
        "intwin_lstm4_slow = estimate_layer_intwin(5, stimuli, segment_durs, in_sr, out_sr)\n",
        "print('Done.')"
      ],
      "metadata": {
        "id": "BbC5aMF1452g"
      },
      "execution_count": null,
      "outputs": []
    },
    {
      "cell_type": "code",
      "source": [
        "adaptation_conv1 = (intwin_conv1_slow/intwin_conv1_norm - 1) / (time_stretch_factor - 1)\n",
        "adaptation_lstm2 = (intwin_lstm2_slow/intwin_lstm2_norm - 1) / (time_stretch_factor - 1)\n",
        "adaptation_lstm4 = (intwin_lstm4_slow/intwin_lstm4_norm - 1) / (time_stretch_factor - 1)\n",
        "\n",
        "plt.figure(figsize=(6, 6))\n",
        "plt.plot(np.log10([0.018, 1.28]), np.log10([0.018, 1.28]), 'k--', linewidth=1)\n",
        "plt.plot(np.log10([0.018, 1.28]), np.log10([0.018, 1.28])+np.log10(1.6), 'r--', linewidth=1)\n",
        "plt.scatter(\n",
        "    np.log10(intwin_conv1_norm),\n",
        "    np.log10(intwin_conv1_slow),\n",
        "    2, alpha=0.3, label='Conv1'\n",
        ")\n",
        "plt.scatter(\n",
        "    np.log10(intwin_lstm2_norm),\n",
        "    np.log10(intwin_lstm2_slow),\n",
        "    2, alpha=0.3, label='LSTM2'\n",
        ")\n",
        "plt.scatter(\n",
        "    np.log10(intwin_lstm4_norm),\n",
        "    np.log10(intwin_lstm4_slow),\n",
        "    2, alpha=0.3, label='LSTM4'\n",
        ")\n",
        "plt.xticks(np.log10([0.02, 0.08, 0.32, 1.28]), [20, 80, 320, 1280], fontsize=16)\n",
        "plt.yticks(np.log10([0.02, 0.08, 0.32, 1.28]), [20, 80, 320, 1280], fontsize=16)\n",
        "plt.xlabel('Integration window for\\nnatural speech (ms)', fontsize=16)\n",
        "plt.ylabel('Integration window for\\nslowed-down speech (ms)', fontsize=16)\n",
        "plt.xlim(np.log10([0.02, 1.28]))\n",
        "plt.ylim(np.log10([0.02, 1.28]))\n",
        "legend = plt.legend(loc='lower right', fontsize=14)\n",
        "for h in legend.legendHandles:\n",
        "    h.set_sizes([25])\n",
        "    h.set_alpha(1)\n",
        "plt.show()\n",
        "\n",
        "plt.figure(figsize=(6, 4))\n",
        "plt.hist(adaptation_conv1, bins=100, alpha=0.6, range=(-0.24, 1.24), label='Conv1')\n",
        "plt.hist(adaptation_lstm2, bins=50, alpha=0.6, range=(-0.24, 1.24), label='LSTM2')\n",
        "plt.hist(adaptation_lstm4, bins=50, alpha=0.6, range=(-0.24, 1.24), label='LSTM4')\n",
        "plt.legend(fontsize=14)\n",
        "plt.xticks([0, 0.25, 0.5, 0.75, 1.0], fontsize=16)\n",
        "plt.yticks([0, 100], fontsize=16)\n",
        "plt.plot([0, 0], [0, 150], 'k--')\n",
        "plt.plot([1, 1], [0, 150], 'r--')\n",
        "plt.xlabel('Adaptation index', fontsize=16)\n",
        "plt.ylabel('Density', fontsize=16)\n",
        "plt.xlim([-0.24, 1.24])\n",
        "plt.ylim([0, 150])\n",
        "plt.show()\n"
      ],
      "metadata": {
        "id": "pFrvZhWh5c78"
      },
      "execution_count": null,
      "outputs": []
    }
  ],
  "metadata": {
    "kernelspec": {
      "display_name": "Python [conda env:.conda-deepspeech]",
      "language": "python",
      "name": "conda-env-.conda-deepspeech-py"
    },
    "language_info": {
      "codemirror_mode": {
        "name": "ipython",
        "version": 3
      },
      "file_extension": ".py",
      "mimetype": "text/x-python",
      "name": "python",
      "nbconvert_exporter": "python",
      "pygments_lexer": "ipython3",
      "version": "3.8.0"
    },
    "colab": {
      "provenance": [],
      "gpuType": "T4"
    },
    "accelerator": "GPU"
  },
  "nbformat": 4,
  "nbformat_minor": 0
}